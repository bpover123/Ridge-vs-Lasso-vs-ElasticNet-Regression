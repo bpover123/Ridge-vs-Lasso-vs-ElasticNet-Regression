{
 "cells": [
  {
   "cell_type": "code",
   "execution_count": 3,
   "metadata": {
    "id": "0eTfjKUv7_Yo"
   },
   "outputs": [],
   "source": [
    "%matplotlib inline"
   ]
  },
  {
   "cell_type": "markdown",
   "metadata": {
    "id": "gth0D8jiMBSe"
   },
   "source": [
    "# Ridge, Lasso, and ElasticNet Regression\n",
    "\n",
    "There are 7 features in the dataset:\n",
    "\n",
    "1. GRE score\n",
    "2. TOEFL score\n",
    "3. University Rating\n",
    "4. SOP(Statement of Purpose)\n",
    "5. LOR(Letter of Recommendation)\n",
    "6. CGPA\n",
    "7. Research\n",
    "\n",
    "And the target is **Chance of Admission**."
   ]
  },
  {
   "cell_type": "code",
   "execution_count": 5,
   "metadata": {
    "id": "QFazlpLgGpAa"
   },
   "outputs": [],
   "source": [
    "# Only use this code block if you are using Google Colab.\n",
    "# If you are using Jupyter Notebook, please ignore this code block. You can directly upload the file to your Jupyter Notebook file systems.\n",
    "# from google.colab import files\n",
    "\n",
    "## It will prompt you to select a local file. Click on “Choose Files” then select and upload the file. \n",
    "## Wait for the file to be 100% uploaded. You should see the name of the file once Colab has uploaded it.\n",
    "# uploaded = files.upload()"
   ]
  },
  {
   "cell_type": "code",
   "execution_count": 4,
   "metadata": {
    "id": "xsPaOOehGuU6"
   },
   "outputs": [],
   "source": [
    "# Codes below will work for both Google Colab and Jupyter Notebook.\n",
    "import numpy as np\n",
    "import pandas as pd\n",
    "import random\n",
    "from sklearn import linear_model\n",
    "from sklearn.metrics import mean_absolute_error, mean_squared_error\n",
    "from sklearn.linear_model import LinearRegression, Ridge, Lasso\n",
    "from sklearn.model_selection import train_test_split\n",
    "\n",
    "## Load the dataset into pandas DataFrame\n",
    "df = pd.read_csv('Admission.csv', index_col=0)\n",
    "df = df.replace([np.inf, -np.inf], np.nan) # \n",
    "df = df.fillna(0) # Replace all the NaN values with 0"
   ]
  },
  {
   "cell_type": "code",
   "execution_count": 5,
   "metadata": {
    "id": "PmMz72U6Gv-z"
   },
   "outputs": [
    {
     "data": {
      "text/plain": [
       "Index(['GRE_Score', 'TOEFL_Score', 'University_Rating', 'SOP', 'LOR ', 'CGPA',\n",
       "       'Research', 'Chance_of_Admit'],\n",
       "      dtype='object')"
      ]
     },
     "execution_count": 5,
     "metadata": {},
     "output_type": "execute_result"
    }
   ],
   "source": [
    "df.columns # Show you all the columns in this file"
   ]
  },
  {
   "cell_type": "code",
   "execution_count": 6,
   "metadata": {
    "id": "CyZN-yFfGxlt"
   },
   "outputs": [
    {
     "data": {
      "text/html": [
       "<div>\n",
       "<style scoped>\n",
       "    .dataframe tbody tr th:only-of-type {\n",
       "        vertical-align: middle;\n",
       "    }\n",
       "\n",
       "    .dataframe tbody tr th {\n",
       "        vertical-align: top;\n",
       "    }\n",
       "\n",
       "    .dataframe thead th {\n",
       "        text-align: right;\n",
       "    }\n",
       "</style>\n",
       "<table border=\"1\" class=\"dataframe\">\n",
       "  <thead>\n",
       "    <tr style=\"text-align: right;\">\n",
       "      <th></th>\n",
       "      <th>GRE_Score</th>\n",
       "      <th>TOEFL_Score</th>\n",
       "      <th>University_Rating</th>\n",
       "      <th>SOP</th>\n",
       "      <th>LOR</th>\n",
       "      <th>CGPA</th>\n",
       "      <th>Research</th>\n",
       "      <th>Chance_of_Admit</th>\n",
       "    </tr>\n",
       "    <tr>\n",
       "      <th>Serial No.</th>\n",
       "      <th></th>\n",
       "      <th></th>\n",
       "      <th></th>\n",
       "      <th></th>\n",
       "      <th></th>\n",
       "      <th></th>\n",
       "      <th></th>\n",
       "      <th></th>\n",
       "    </tr>\n",
       "  </thead>\n",
       "  <tbody>\n",
       "    <tr>\n",
       "      <th>1</th>\n",
       "      <td>337</td>\n",
       "      <td>118</td>\n",
       "      <td>4</td>\n",
       "      <td>4.5</td>\n",
       "      <td>4.5</td>\n",
       "      <td>9.65</td>\n",
       "      <td>1</td>\n",
       "      <td>0.92</td>\n",
       "    </tr>\n",
       "    <tr>\n",
       "      <th>2</th>\n",
       "      <td>324</td>\n",
       "      <td>107</td>\n",
       "      <td>4</td>\n",
       "      <td>4.0</td>\n",
       "      <td>4.5</td>\n",
       "      <td>8.87</td>\n",
       "      <td>1</td>\n",
       "      <td>0.76</td>\n",
       "    </tr>\n",
       "    <tr>\n",
       "      <th>3</th>\n",
       "      <td>316</td>\n",
       "      <td>104</td>\n",
       "      <td>3</td>\n",
       "      <td>3.0</td>\n",
       "      <td>3.5</td>\n",
       "      <td>8.00</td>\n",
       "      <td>1</td>\n",
       "      <td>0.72</td>\n",
       "    </tr>\n",
       "    <tr>\n",
       "      <th>4</th>\n",
       "      <td>322</td>\n",
       "      <td>110</td>\n",
       "      <td>3</td>\n",
       "      <td>3.5</td>\n",
       "      <td>2.5</td>\n",
       "      <td>8.67</td>\n",
       "      <td>1</td>\n",
       "      <td>0.80</td>\n",
       "    </tr>\n",
       "    <tr>\n",
       "      <th>5</th>\n",
       "      <td>314</td>\n",
       "      <td>103</td>\n",
       "      <td>2</td>\n",
       "      <td>2.0</td>\n",
       "      <td>3.0</td>\n",
       "      <td>8.21</td>\n",
       "      <td>0</td>\n",
       "      <td>0.65</td>\n",
       "    </tr>\n",
       "  </tbody>\n",
       "</table>\n",
       "</div>"
      ],
      "text/plain": [
       "            GRE_Score  TOEFL_Score  University_Rating  SOP  LOR   CGPA  \\\n",
       "Serial No.                                                               \n",
       "1                 337          118                  4  4.5   4.5  9.65   \n",
       "2                 324          107                  4  4.0   4.5  8.87   \n",
       "3                 316          104                  3  3.0   3.5  8.00   \n",
       "4                 322          110                  3  3.5   2.5  8.67   \n",
       "5                 314          103                  2  2.0   3.0  8.21   \n",
       "\n",
       "            Research  Chance_of_Admit  \n",
       "Serial No.                             \n",
       "1                  1             0.92  \n",
       "2                  1             0.76  \n",
       "3                  1             0.72  \n",
       "4                  1             0.80  \n",
       "5                  0             0.65  "
      ]
     },
     "execution_count": 6,
     "metadata": {},
     "output_type": "execute_result"
    }
   ],
   "source": [
    "df.head() # Show you the first 5 rows in this file"
   ]
  },
  {
   "cell_type": "code",
   "execution_count": 7,
   "metadata": {
    "id": "S3TfR0i4G2rO"
   },
   "outputs": [
    {
     "data": {
      "text/plain": [
       "array([[337.  , 118.  ,   4.  , ...,   4.5 ,   9.65,   1.  ],\n",
       "       [324.  , 107.  ,   4.  , ...,   4.5 ,   8.87,   1.  ],\n",
       "       [316.  , 104.  ,   3.  , ...,   3.5 ,   8.  ,   1.  ],\n",
       "       ...,\n",
       "       [330.  , 116.  ,   4.  , ...,   4.5 ,   9.45,   1.  ],\n",
       "       [312.  , 103.  ,   3.  , ...,   4.  ,   8.78,   0.  ],\n",
       "       [333.  , 117.  ,   4.  , ...,   4.  ,   9.66,   1.  ]])"
      ]
     },
     "execution_count": 7,
     "metadata": {},
     "output_type": "execute_result"
    }
   ],
   "source": [
    "y = df['Chance_of_Admit'].to_numpy() # The column named Chance_of_Admit is used as the target, and we store it in y\n",
    "X = df.drop(['Chance_of_Admit'], axis=1).to_numpy() # We keep the remaining columns as the features, and store them in x\n",
    "X"
   ]
  },
  {
   "cell_type": "markdown",
   "metadata": {
    "id": "pKq1KERxJw9y"
   },
   "source": [
    "## Steps to Analyze ML Methods\n",
    "1)Split the data into a training set(75% of data) and a test set(25% of data), using the [train_test_split](https://scikit-learn.org/stable/modules/generated/sklearn.model_selection.train_test_split.html) function with random_state = 50. Then scale the data (not including target) so that each of the independent variables would have zero mean and unit variance. You can use the [sklearn.preprocessing.scale](https://scikit-learn.org/stable/modules/generated/sklearn.preprocessing.scale.html) function for this. Print the first 5 rows of the training set after scaling.\n",
    "\n",
    "2)Use [sklearn.linear_model.Lasso](https://scikit-learn.org/stable/modules/generated/sklearn.linear_model.Lasso.html) and [sklearn.linear_model.Ridge](https://scikit-learn.org/stable/modules/generated/sklearn.linear_model.Ridge.html) classes to do a **5-fold** cross validation using sklearn's KFold. For the sweep of the regularization parameter, we will look at a grid of values ranging from α=10^10 to α=10^−6. In Python, you can consider this range of values as follows: alpha = 10**numpy.linspace(6,-6,100) \n",
    "so that you can generate 100 uniform values between -6 to 6 as power series.\n",
    "\n",
    "Fit the 2 regression models with scaled data and report the best chosen **α** based on cross validation as well as the corresponding scoring metric. The cross validation should happen on your training data using **MSE** as the scoring metric.\n",
    "\n",
    "3)Run ridge and lasso regression for all of the **α** specified above (on training data), and plot the coefficients learned for each of them - there should be one plot each for lasso and ridge, so a total of two plots; different features' weights of each model should be on the same plot with different colors. \n",
    "\n",
    "What do you qualitatively observe when the value of the regularization parameter changes? \n",
    "\n",
    "4)Take the exponential of Y_train as the target, and fit the 2 regression models again. Report the best chosen **α** based on cross validation as well as the corresponding scoring metric. Compare the results of using the original target with the results of using the exponential of the target. What do you observe? \n",
    "\n",
    "5)Similarly, use [sklearn.linear_model.ElasticNet](https://scikit-learn.org/stable/modules/generated/sklearn.linear_model.ElasticNet.html) to do linear regression with different **α** values, and plot the coefficients learned for each of them (2pts). Observe the plot, then explain the pros and cons of ridge, lasso and Elastic Net models.\n",
    "\n",
    "\n",
    "6)Run the following three regression models with **MSE** loss on the training data: \n",
    "\n",
    "a. linear regression without regularization\n",
    "\n",
    "b. linear regression with ridge regularization\n",
    "\n",
    "c. linear regression with lasso regularization\n",
    "\n",
    "For part (b) and (c), use only the best regularization parameters. Report the MSE and R<sup>2</sup> on the test data for each model.\n",
    "\n",
    "7)Train the 3 models and report the metrics with the original data without scaling. \n",
    "\n",
    "Why do we need to scale the data before regularization? \n"
   ]
  },
  {
   "cell_type": "markdown",
   "metadata": {},
   "source": [
    "### Step 1"
   ]
  },
  {
   "cell_type": "code",
   "execution_count": 8,
   "metadata": {
    "id": "pJwSM8ENCYWg"
   },
   "outputs": [
    {
     "data": {
      "text/plain": [
       "array([[ 1.52725374,  2.0917706 ,  1.61594354,  0.63150829,  1.72829095,\n",
       "         2.11370277,  0.90453403],\n",
       "       [ 0.74180896,  0.46308859, -0.9310778 , -0.35266047, -1.04140609,\n",
       "         0.29488827,  0.90453403],\n",
       "       [ 0.56726568,  0.13735218,  1.61594354,  0.63150829,  0.62041214,\n",
       "         0.26211684,  0.90453403],\n",
       "       [-0.39272239, -0.51412062, -0.08207069,  0.13942391,  0.62041214,\n",
       "        -0.80295471, -1.1055416 ],\n",
       "       [ 0.47999403,  0.78882499,  0.76693642,  1.12359267,  1.17435154,\n",
       "         1.11417408,  0.90453403]])"
      ]
     },
     "execution_count": 8,
     "metadata": {},
     "output_type": "execute_result"
    }
   ],
   "source": [
    "# Part 1\n",
    "import sklearn\n",
    "\n",
    "X_train, X_test, Y_train, Y_test = train_test_split(X, y, test_size = 0.25, random_state=50)\n",
    "X_train = sklearn.preprocessing.scale(X_train)\n",
    "X_test = sklearn.preprocessing.scale(X_test)\n",
    "X_train[0:5]"
   ]
  },
  {
   "cell_type": "code",
   "execution_count": 55,
   "metadata": {},
   "outputs": [
    {
     "data": {
      "text/plain": [
       "array([[-0.23921879, -0.55081643, -0.05837637, -1.58401489, -1.12463699,\n",
       "        -0.32211528, -1.08347268],\n",
       "       [-0.8526003 , -0.3770573 , -0.05837637, -0.02596746, -1.12463699,\n",
       "        -0.81739505,  0.92295821],\n",
       "       [-0.15159286, -0.20329818, -1.03131579, -0.02596746,  0.01135997,\n",
       "        -0.02861616,  0.92295821],\n",
       "       [ 1.77617761,  1.18677483,  1.88750249,  1.01273083,  1.71535541,\n",
       "         1.05366184,  0.92295821],\n",
       "       [-0.32684472, -0.3770573 , -1.03131579,  0.49338169,  0.01135997,\n",
       "        -0.74402027, -1.08347268]])"
      ]
     },
     "execution_count": 55,
     "metadata": {},
     "output_type": "execute_result"
    }
   ],
   "source": [
    "X_test[0:5]"
   ]
  },
  {
   "cell_type": "markdown",
   "metadata": {},
   "source": [
    "### Step 2"
   ]
  },
  {
   "cell_type": "code",
   "execution_count": 9,
   "metadata": {},
   "outputs": [
    {
     "data": {
      "text/plain": [
       "array([1.00000000e+06, 7.56463328e+05, 5.72236766e+05, 4.32876128e+05,\n",
       "       3.27454916e+05, 2.47707636e+05, 1.87381742e+05, 1.41747416e+05,\n",
       "       1.07226722e+05, 8.11130831e+04, 6.13590727e+04, 4.64158883e+04,\n",
       "       3.51119173e+04, 2.65608778e+04, 2.00923300e+04, 1.51991108e+04,\n",
       "       1.14975700e+04, 8.69749003e+03, 6.57933225e+03, 4.97702356e+03,\n",
       "       3.76493581e+03, 2.84803587e+03, 2.15443469e+03, 1.62975083e+03,\n",
       "       1.23284674e+03, 9.32603347e+02, 7.05480231e+02, 5.33669923e+02,\n",
       "       4.03701726e+02, 3.05385551e+02, 2.31012970e+02, 1.74752840e+02,\n",
       "       1.32194115e+02, 1.00000000e+02, 7.56463328e+01, 5.72236766e+01,\n",
       "       4.32876128e+01, 3.27454916e+01, 2.47707636e+01, 1.87381742e+01,\n",
       "       1.41747416e+01, 1.07226722e+01, 8.11130831e+00, 6.13590727e+00,\n",
       "       4.64158883e+00, 3.51119173e+00, 2.65608778e+00, 2.00923300e+00,\n",
       "       1.51991108e+00, 1.14975700e+00, 8.69749003e-01, 6.57933225e-01,\n",
       "       4.97702356e-01, 3.76493581e-01, 2.84803587e-01, 2.15443469e-01,\n",
       "       1.62975083e-01, 1.23284674e-01, 9.32603347e-02, 7.05480231e-02,\n",
       "       5.33669923e-02, 4.03701726e-02, 3.05385551e-02, 2.31012970e-02,\n",
       "       1.74752840e-02, 1.32194115e-02, 1.00000000e-02, 7.56463328e-03,\n",
       "       5.72236766e-03, 4.32876128e-03, 3.27454916e-03, 2.47707636e-03,\n",
       "       1.87381742e-03, 1.41747416e-03, 1.07226722e-03, 8.11130831e-04,\n",
       "       6.13590727e-04, 4.64158883e-04, 3.51119173e-04, 2.65608778e-04,\n",
       "       2.00923300e-04, 1.51991108e-04, 1.14975700e-04, 8.69749003e-05,\n",
       "       6.57933225e-05, 4.97702356e-05, 3.76493581e-05, 2.84803587e-05,\n",
       "       2.15443469e-05, 1.62975083e-05, 1.23284674e-05, 9.32603347e-06,\n",
       "       7.05480231e-06, 5.33669923e-06, 4.03701726e-06, 3.05385551e-06,\n",
       "       2.31012970e-06, 1.74752840e-06, 1.32194115e-06, 1.00000000e-06])"
      ]
     },
     "execution_count": 9,
     "metadata": {},
     "output_type": "execute_result"
    }
   ],
   "source": [
    "# Part 2\n",
    "alphas = 10**np.linspace(6,-6,100)\n",
    "alphas"
   ]
  },
  {
   "cell_type": "code",
   "execution_count": 11,
   "metadata": {},
   "outputs": [],
   "source": [
    "import sklearn.linear_model as linear_model\n",
    "n_splits = 5\n",
    "kf = KFold(n_splits=n_splits)"
   ]
  },
  {
   "cell_type": "code",
   "execution_count": 68,
   "metadata": {},
   "outputs": [
    {
     "name": "stdout",
     "output_type": "stream",
     "text": [
      "MSE:  0.00411801388424071\n",
      "MAE:  0.04662167368471973\n"
     ]
    }
   ],
   "source": [
    "MSE = []\n",
    "MAE = []\n",
    "alpha = []\n",
    "\n",
    "mse=0\n",
    "mae=0\n",
    "\n",
    "for i in alphas:\n",
    "    for train_index, test_index in kf.split(X_train):\n",
    "        x_train, x_test = X_train[train_index], X_train[test_index]\n",
    "        y_train, y_test = Y_train[train_index], Y_train[test_index]\n",
    "\n",
    "        ridge = linear_model.Ridge(alpha = i)\n",
    "        ridge = ridge.fit(x_train, y_train)\n",
    "        \n",
    "        \n",
    "        mse += mean_squared_error(y_test, ridge.predict(x_test))\n",
    "        mae += mean_absolute_error(y_test, ridge.predict(x_test))\n",
    "    mse = mse/5\n",
    "    mae = mae/5\n",
    "    \n",
    "    MSE.append(mse)\n",
    "    MAE.append(mae)\n",
    "    \n",
    "    mse=0\n",
    "    mae=0\n",
    "    \n",
    "    alpha.append(i)\n",
    "    \n",
    "print('MSE: ',min(MSE))\n",
    "print('MAE: ',min(MAE))"
   ]
  },
  {
   "cell_type": "code",
   "execution_count": 69,
   "metadata": {},
   "outputs": [
    {
     "data": {
      "text/plain": [
       "44"
      ]
     },
     "execution_count": 69,
     "metadata": {},
     "output_type": "execute_result"
    }
   ],
   "source": [
    "min_value = min(MSE)\n",
    "min_index = MSE.index(min_value)\n",
    "min_index"
   ]
  },
  {
   "cell_type": "code",
   "execution_count": 70,
   "metadata": {},
   "outputs": [
    {
     "data": {
      "text/plain": [
       "0.00411801388424071"
      ]
     },
     "execution_count": 70,
     "metadata": {},
     "output_type": "execute_result"
    }
   ],
   "source": [
    "MSE[44] # min MSE"
   ]
  },
  {
   "cell_type": "code",
   "execution_count": 71,
   "metadata": {},
   "outputs": [
    {
     "data": {
      "text/plain": [
       "4.641588833612772"
      ]
     },
     "execution_count": 71,
     "metadata": {},
     "output_type": "execute_result"
    }
   ],
   "source": [
    "alphas[44] # best alpha according the Kfold CV using MSE"
   ]
  },
  {
   "cell_type": "code",
   "execution_count": 72,
   "metadata": {},
   "outputs": [
    {
     "data": {
      "text/plain": [
       "39"
      ]
     },
     "execution_count": 72,
     "metadata": {},
     "output_type": "execute_result"
    }
   ],
   "source": [
    "min_value = min(MAE)\n",
    "min_index = MAE.index(min_value)\n",
    "min_index"
   ]
  },
  {
   "cell_type": "code",
   "execution_count": 73,
   "metadata": {},
   "outputs": [
    {
     "data": {
      "text/plain": [
       "0.04662167368471973"
      ]
     },
     "execution_count": 73,
     "metadata": {},
     "output_type": "execute_result"
    }
   ],
   "source": [
    "MAE[39] # min MAE"
   ]
  },
  {
   "cell_type": "code",
   "execution_count": 74,
   "metadata": {},
   "outputs": [
    {
     "data": {
      "text/plain": [
       "18.73817422860383"
      ]
     },
     "execution_count": 74,
     "metadata": {},
     "output_type": "execute_result"
    }
   ],
   "source": [
    "alphas[39] # best alpha according the Kfold CV using MAE"
   ]
  },
  {
   "cell_type": "code",
   "execution_count": 55,
   "metadata": {},
   "outputs": [
    {
     "name": "stdout",
     "output_type": "stream",
     "text": [
      "MSE:  0.004098425318055381\n",
      "MAE:  0.04652738245404536\n"
     ]
    }
   ],
   "source": [
    "MSE = []\n",
    "MAE = []\n",
    "alpha = []\n",
    "\n",
    "mse=0\n",
    "mae=0\n",
    "\n",
    "for i in alphas:\n",
    "    for train_index, test_index in kf.split(X_train):\n",
    "        x_train, x_test = X_train[train_index], X_train[test_index]\n",
    "        y_train, y_test = Y_train[train_index], Y_train[test_index]\n",
    "\n",
    "        lasso = linear_model.Lasso(alpha = i)\n",
    "        lasso = lasso.fit(x_train, y_train)\n",
    "        \n",
    "       \n",
    "        mse += mean_squared_error(y_test, lasso.predict(x_test))\n",
    "        mae += mean_absolute_error(y_test, lasso.predict(x_test))\n",
    "    \n",
    "    alpha.append(i)\n",
    "    mse = mse/5\n",
    "    mae = mae/5\n",
    "    \n",
    "    MSE.append(mse)\n",
    "    MAE.append(mae)\n",
    "    \n",
    "    mse=0\n",
    "    mae=0\n",
    "    \n",
    "    alpha.append(i)\n",
    "    \n",
    "print('MSE: ',min(MSE))\n",
    "print('MAE: ',min(MAE))"
   ]
  },
  {
   "cell_type": "code",
   "execution_count": 56,
   "metadata": {},
   "outputs": [
    {
     "data": {
      "text/plain": [
       "74"
      ]
     },
     "execution_count": 56,
     "metadata": {},
     "output_type": "execute_result"
    }
   ],
   "source": [
    "min_value = min(MSE)\n",
    "min_index = MSE.index(min_value)\n",
    "min_index"
   ]
  },
  {
   "cell_type": "code",
   "execution_count": 57,
   "metadata": {},
   "outputs": [
    {
     "data": {
      "text/plain": [
       "0.004098425318055381"
      ]
     },
     "execution_count": 57,
     "metadata": {},
     "output_type": "execute_result"
    }
   ],
   "source": [
    "MSE[74] # min MSE"
   ]
  },
  {
   "cell_type": "code",
   "execution_count": 58,
   "metadata": {},
   "outputs": [
    {
     "data": {
      "text/plain": [
       "32.74549162877725"
      ]
     },
     "execution_count": 58,
     "metadata": {},
     "output_type": "execute_result"
    }
   ],
   "source": [
    "alpha[74] # best alpha according the Kfold CV using MSE"
   ]
  },
  {
   "cell_type": "code",
   "execution_count": 59,
   "metadata": {},
   "outputs": [
    {
     "data": {
      "text/plain": [
       "70"
      ]
     },
     "execution_count": 59,
     "metadata": {},
     "output_type": "execute_result"
    }
   ],
   "source": [
    "min_value = min(MAE)\n",
    "min_index = MAE.index(min_value)\n",
    "min_index"
   ]
  },
  {
   "cell_type": "code",
   "execution_count": 60,
   "metadata": {},
   "outputs": [
    {
     "data": {
      "text/plain": [
       "0.04652738245404536"
      ]
     },
     "execution_count": 60,
     "metadata": {},
     "output_type": "execute_result"
    }
   ],
   "source": [
    "MAE[70] # min MAE"
   ]
  },
  {
   "cell_type": "code",
   "execution_count": 61,
   "metadata": {},
   "outputs": [
    {
     "data": {
      "text/plain": [
       "57.223676593502205"
      ]
     },
     "execution_count": 61,
     "metadata": {},
     "output_type": "execute_result"
    }
   ],
   "source": [
    "alpha[70] # best alpha according the Kfold CV using MAE"
   ]
  },
  {
   "cell_type": "markdown",
   "metadata": {},
   "source": [
    "### Step 3"
   ]
  },
  {
   "cell_type": "code",
   "execution_count": 62,
   "metadata": {},
   "outputs": [],
   "source": [
    "import matplotlib.pyplot as plt\n",
    "coefficients = []\n",
    "# Part 3\n",
    "for i in alphas:\n",
    "    lasso = linear_model.Lasso(alpha = i,fit_intercept=False)\n",
    "    lasso = lasso.fit(x_train, y_train)\n",
    "\n",
    "    coefficients.append(lasso.coef_)\n"
   ]
  },
  {
   "cell_type": "code",
   "execution_count": 63,
   "metadata": {},
   "outputs": [
    {
     "data": {
      "image/png": "[encoded data removed]",
      "text/plain": [
       "<Figure size 432x288 with 1 Axes>"
      ]
     },
     "metadata": {
      "needs_background": "light"
     },
     "output_type": "display_data"
    }
   ],
   "source": [
    "axis = plt.gca()\n",
    "\n",
    "axis.plot(alphas, coefficients)\n",
    "axis.set_xscale('log')\n",
    "axis.set_xlim(axis.get_xlim()[::-1])  # reverse axis\n",
    "plt.xlabel('alpha')\n",
    "plt.ylabel('weights')\n",
    "plt.title('Lasso coefficients as a function of the regularization')\n",
    "plt.axis('tight')\n",
    "plt.show()"
   ]
  },
  {
   "cell_type": "markdown",
   "metadata": {},
   "source": [
    "As the alpha changes, the coefficieints remain at 0 until around the alpha of 10^-1. Thereafter, the coefficients vary greatly with a large range and level out at different small alpha levels."
   ]
  },
  {
   "cell_type": "code",
   "execution_count": 64,
   "metadata": {},
   "outputs": [],
   "source": [
    "import matplotlib.pyplot as plt\n",
    "coefficients = []\n",
    "# Part 3\n",
    "for i in alphas:\n",
    "    ridge = linear_model.Ridge(alpha = i, fit_intercept=False)\n",
    "    ridge = ridge.fit(x_train, y_train)\n",
    "\n",
    "    coefficients.append(ridge.coef_)\n"
   ]
  },
  {
   "cell_type": "code",
   "execution_count": 65,
   "metadata": {},
   "outputs": [
    {
     "data": {
      "image/png": "[encoded data removed]",
      "text/plain": [
       "<Figure size 432x288 with 1 Axes>"
      ]
     },
     "metadata": {
      "needs_background": "light"
     },
     "output_type": "display_data"
    }
   ],
   "source": [
    "axis = plt.gca()\n",
    "\n",
    "axis.plot(alphas, coefficients)\n",
    "axis.set_xscale('log')\n",
    "axis.set_xlim(axis.get_xlim()[::-1])  # reverse axis\n",
    "plt.xlabel('alpha')\n",
    "plt.ylabel('weights')\n",
    "plt.title('Ridge coefficients as a function of the regularization')\n",
    "plt.axis('tight')\n",
    "plt.show()"
   ]
  },
  {
   "cell_type": "markdown",
   "metadata": {},
   "source": [
    "The coefficients stay around the same level until around the alpha of 1000. Thereafter, the coefficients spread out and level out again at their respective weights at around an alpha of 10."
   ]
  },
  {
   "cell_type": "markdown",
   "metadata": {},
   "source": [
    "### Step 4"
   ]
  },
  {
   "cell_type": "code",
   "execution_count": 75,
   "metadata": {},
   "outputs": [
    {
     "name": "stdout",
     "output_type": "stream",
     "text": [
      "MSE: 0.014815008775351055\n",
      "MAE: 0.002963001755070211\n"
     ]
    }
   ],
   "source": [
    "# Part 4\n",
    "MSE = []\n",
    "MAE = []\n",
    "\n",
    "mse = 0\n",
    "mae = 0\n",
    "\n",
    "EY_train = np.exp(Y_train)\n",
    "\n",
    "for i in alphas:\n",
    "\n",
    "    for train_index, test_index in kf.split(X_train):\n",
    "        \n",
    "        x_train, x_test = X_train[train_index], X_train[test_index]\n",
    "        y_train, y_test = EY_train[train_index], EY_train[test_index]\n",
    "\n",
    "        ridge = linear_model.Ridge(alpha = i)\n",
    "        ridge = ridge.fit(x_train, y_train)\n",
    "        \n",
    "        mse += mean_squared_error(y_test, ridge.predict(x_test))\n",
    "        mae += mean_absolute_error(y_test, ridge.predict(x_test))\n",
    "        \n",
    "    mse = mse/5\n",
    "    mae = mse/5\n",
    "\n",
    "    MSE.append(mse)\n",
    "    MAE.append(mae)\n",
    "    \n",
    "    mse = 0\n",
    "    mae = 0\n",
    "\n",
    "print('MSE:', min(MSE))\n",
    "print('MAE:', min(MAE))"
   ]
  },
  {
   "cell_type": "code",
   "execution_count": 76,
   "metadata": {},
   "outputs": [
    {
     "data": {
      "text/plain": [
       "43"
      ]
     },
     "execution_count": 76,
     "metadata": {},
     "output_type": "execute_result"
    }
   ],
   "source": [
    "min_value = min(MSE)\n",
    "min_index = MSE.index(min_value)\n",
    "min_index"
   ]
  },
  {
   "cell_type": "code",
   "execution_count": 77,
   "metadata": {},
   "outputs": [
    {
     "data": {
      "text/plain": [
       "0.014815008775351055"
      ]
     },
     "execution_count": 77,
     "metadata": {},
     "output_type": "execute_result"
    }
   ],
   "source": [
    "MSE[min_index]"
   ]
  },
  {
   "cell_type": "code",
   "execution_count": 78,
   "metadata": {},
   "outputs": [
    {
     "data": {
      "text/plain": [
       "6.135907273413176"
      ]
     },
     "execution_count": 78,
     "metadata": {},
     "output_type": "execute_result"
    }
   ],
   "source": [
    "alpha[min_index]"
   ]
  },
  {
   "cell_type": "code",
   "execution_count": 79,
   "metadata": {},
   "outputs": [
    {
     "name": "stdout",
     "output_type": "stream",
     "text": [
      "MSE: 0.01476731964422993\n",
      "MAE: 0.002953463928845986\n"
     ]
    }
   ],
   "source": [
    "MSE = []\n",
    "MAE = []\n",
    "\n",
    "mse = 0\n",
    "mae = 0\n",
    "\n",
    "\n",
    "for i in alphas:\n",
    "\n",
    "    for train_index, test_index in kf.split(X_train):\n",
    "        \n",
    "        x_train, x_test = X_train[train_index], X_train[test_index]\n",
    "        y_train, y_test = EY_train[train_index], EY_train[test_index]\n",
    "\n",
    "        lasso = linear_model.Lasso(alpha = i)\n",
    "        lasso = lasso.fit(x_train, y_train)\n",
    "        \n",
    "        mse += mean_squared_error(y_test, lasso.predict(x_test))\n",
    "        mae += mean_absolute_error(y_test, lasso.predict(x_test))\n",
    "        \n",
    "    mse = mse/5\n",
    "    mae = mse/5\n",
    "\n",
    "    MSE.append(mse)\n",
    "    MAE.append(mae)\n",
    "    \n",
    "    mse = 0\n",
    "    mae = 0\n",
    "\n",
    "print('MSE:', min(MSE))\n",
    "print('MAE:', min(MAE))"
   ]
  },
  {
   "cell_type": "code",
   "execution_count": 80,
   "metadata": {},
   "outputs": [
    {
     "data": {
      "text/plain": [
       "72"
      ]
     },
     "execution_count": 80,
     "metadata": {},
     "output_type": "execute_result"
    }
   ],
   "source": [
    "min_value = min(MSE)\n",
    "min_index = MSE.index(min_value)\n",
    "min_index"
   ]
  },
  {
   "cell_type": "code",
   "execution_count": 81,
   "metadata": {},
   "outputs": [
    {
     "data": {
      "text/plain": [
       "0.01476731964422993"
      ]
     },
     "execution_count": 81,
     "metadata": {},
     "output_type": "execute_result"
    }
   ],
   "source": [
    "MSE[min_index]"
   ]
  },
  {
   "cell_type": "code",
   "execution_count": 82,
   "metadata": {},
   "outputs": [
    {
     "data": {
      "text/plain": [
       "0.0018738174228603867"
      ]
     },
     "execution_count": 82,
     "metadata": {},
     "output_type": "execute_result"
    }
   ],
   "source": [
    "alpha[min_index]"
   ]
  },
  {
   "cell_type": "markdown",
   "metadata": {},
   "source": [
    "### Step 5"
   ]
  },
  {
   "cell_type": "code",
   "execution_count": 85,
   "metadata": {},
   "outputs": [
    {
     "name": "stdout",
     "output_type": "stream",
     "text": [
      "MSE: 0.004098968587261618\n",
      "MAE: 0.0008197937174523237\n"
     ]
    },
    {
     "data": {
      "image/png": "[encoded data removed]",
      "text/plain": [
       "<Figure size 432x288 with 1 Axes>"
      ]
     },
     "metadata": {
      "needs_background": "light"
     },
     "output_type": "display_data"
    }
   ],
   "source": [
    "# Part 5\n",
    "MSE = []\n",
    "MAE = []\n",
    "\n",
    "mse = 0\n",
    "mae = 0\n",
    "\n",
    "\n",
    "for i in alphas:\n",
    "\n",
    "    for train_index, test_index in kf.split(X_train):\n",
    "        \n",
    "        x_train, x_test = X_train[train_index], X_train[test_index]\n",
    "        y_train, y_test = Y_train[train_index], Y_train[test_index]\n",
    "\n",
    "        en = linear_model.ElasticNet(alpha = i)\n",
    "        en = en.fit(x_train, y_train)\n",
    "        \n",
    "        mse += mean_squared_error(y_test, en.predict(x_test))\n",
    "        mae += mean_absolute_error(y_test, en.predict(x_test))\n",
    "        \n",
    "    mse = mse/5\n",
    "    mae = mse/5\n",
    "\n",
    "    MSE.append(mse)\n",
    "    MAE.append(mae)\n",
    "    \n",
    "    mse = 0\n",
    "    mae = 0\n",
    "\n",
    "print('MSE:', min(MSE))\n",
    "print('MAE:', min(MAE))\n",
    "\n",
    "\n",
    "\n",
    "alphas = 10**np.linspace(6,-6,100)\n",
    "coefficients = []\n",
    "for a in alphas:\n",
    "\n",
    "    en = linear_model.ElasticNet(alpha = a)\n",
    "    en = en.fit(x_train, y_train)\n",
    "    coefficients.append(en.coef_)\n",
    "\n",
    "\n",
    "ax = plt.gca()\n",
    "ax.plot(alphas, coefficients)\n",
    "ax.set_xscale('log')\n",
    "ax.set_xlim(ax.get_xlim()[::-1])  # reverse axis\n",
    "plt.xlabel('alpha')\n",
    "plt.ylabel('weights')\n",
    "plt.title('ElasticNet coefficients as a function of the regularization')\n",
    "plt.axis('tight')\n",
    "plt.show()"
   ]
  },
  {
   "cell_type": "markdown",
   "metadata": {},
   "source": [
    "Lasso\n",
    "- Pros: As it uses a regularization parameter, it avoids overfitting and can handle large amounts of predictors. This results in some coefficients with low amounts or no amount of predictive weight and this minimizes the number of coefficients, i.e., bias.\n",
    "- Cons: When there are some correlated features, it will randomly select one of them. Also, when there are more predictors than data, it will only pick predictors up to the amount of N.\n",
    "\n",
    "Ridge:\n",
    "- Pros: Uses the alpha to produce results with low bias and low variance and some coefficients will have very little affect on the result.\n",
    "- Cons: It does not zero out cofficients, only reduces them. Model is hard to intrepret. \n",
    "\n",
    "ElasticNet:\n",
    "- Pros: does not have problem as Lasso does, where number of predictors is greater than N.\n",
    "- Cons: Does not remove highly correlated variables"
   ]
  },
  {
   "cell_type": "markdown",
   "metadata": {},
   "source": [
    "### Step 6"
   ]
  },
  {
   "cell_type": "code",
   "execution_count": 86,
   "metadata": {},
   "outputs": [
    {
     "data": {
      "text/plain": [
       "array([0.0252715 , 0.01431774, 0.00305373, 0.00072951, 0.02133006,\n",
       "       0.07573555, 0.00686496])"
      ]
     },
     "execution_count": 86,
     "metadata": {},
     "output_type": "execute_result"
    }
   ],
   "source": [
    "# Part 6\n",
    "import numpy as np\n",
    "from sklearn.linear_model import LinearRegression\n",
    "\n",
    "reg = LinearRegression().fit(X_train, Y_train)\n",
    "reg.coef_"
   ]
  },
  {
   "cell_type": "code",
   "execution_count": 87,
   "metadata": {},
   "outputs": [
    {
     "name": "stdout",
     "output_type": "stream",
     "text": [
      "MSE train:  0.0038570690453814307\n",
      "R-squared train:  0.8193370700006861\n",
      "MSE test:  0.005200215496311306\n",
      "R-squared test:  0.6910288907914794\n"
     ]
    }
   ],
   "source": [
    "from sklearn.metrics import r2_score\n",
    "reg = LinearRegression()\n",
    "reg.fit(X_train, Y_train)\n",
    "\n",
    "pred_train_lr= reg.predict(X_train)\n",
    "\n",
    "print('MSE train: ',mean_squared_error(Y_train,pred_train_lr))\n",
    "print('R-squared train: ',r2_score(Y_train, pred_train_lr))\n",
    "\n",
    "pred_test_lr= reg.predict(X_test)\n",
    "print('MSE test: ',mean_squared_error(Y_test,pred_test_lr))\n",
    "print('R-squared test: ',r2_score(Y_test, pred_test_lr))"
   ]
  },
  {
   "cell_type": "code",
   "execution_count": 88,
   "metadata": {},
   "outputs": [
    {
     "name": "stdout",
     "output_type": "stream",
     "text": [
      "MSE train:  0.003857069067549536\n",
      "R-squared train:  0.8193370689623446\n",
      "MSE test:  0.0052000831653691605\n",
      "R-squared test:  0.6910367532421811\n"
     ]
    }
   ],
   "source": [
    "from sklearn.metrics import r2_score\n",
    "from sklearn.linear_model import Ridge\n",
    "\n",
    "ridge = Ridge(alpha=0.01)\n",
    "ridge.fit(X_train, Y_train) \n",
    "pred_train_ridge= ridge.predict(X_train)\n",
    "\n",
    "print('MSE train: ',mean_squared_error(Y_train,pred_train_ridge))\n",
    "print('R-squared train: ',r2_score(Y_train, pred_train_ridge))\n",
    "\n",
    "pred_test_ridge= ridge.predict(X_test)\n",
    "print('MSE test: ',mean_squared_error(Y_test,pred_test_ridge)) \n",
    "print('R-squared test: ',r2_score(Y_test, pred_test_ridge))"
   ]
  },
  {
   "cell_type": "code",
   "execution_count": 89,
   "metadata": {},
   "outputs": [
    {
     "name": "stdout",
     "output_type": "stream",
     "text": [
      "MSE train:  0.06335953771026617\n",
      "R-squared train:  0.811966324270088\n",
      "MSE test:  0.07119222093168762\n",
      "R-squared test:  0.6988647373892298\n"
     ]
    }
   ],
   "source": [
    "from sklearn.linear_model import Lasso\n",
    "\n",
    "model_lasso = Lasso(alpha=0.01)\n",
    "model_lasso.fit(X_train, Y_train) \n",
    "pred_train_lasso= model_lasso.predict(X_train)\n",
    "\n",
    "print('MSE train: ',np.sqrt(mean_squared_error(Y_train,pred_train_lasso)))\n",
    "print('R-squared train: ',r2_score(Y_train, pred_train_lasso))\n",
    "\n",
    "pred_test_lasso= model_lasso.predict(X_test)\n",
    "print('MSE test: ',np.sqrt(mean_squared_error(Y_test,pred_test_lasso))) \n",
    "print('R-squared test: ',r2_score(Y_test, pred_test_lasso))"
   ]
  },
  {
   "cell_type": "code",
   "execution_count": 90,
   "metadata": {},
   "outputs": [
    {
     "name": "stdout",
     "output_type": "stream",
     "text": [
      "MSE test:  0.00506833232118622\n",
      "R-squared test:  0.6988647373892298\n"
     ]
    }
   ],
   "source": [
    "print('MSE test: ',mean_squared_error(Y_test,pred_test_lasso))\n",
    "print('R-squared test: ',r2_score(Y_test, pred_test_lasso))"
   ]
  },
  {
   "cell_type": "markdown",
   "metadata": {},
   "source": [
    "### Step 7"
   ]
  },
  {
   "cell_type": "code",
   "execution_count": 91,
   "metadata": {},
   "outputs": [],
   "source": [
    "# Part 7\n",
    "X_train, X_test, Y_train, Y_test = train_test_split(X, y, test_size = 0.25, random_state=50)"
   ]
  },
  {
   "cell_type": "code",
   "execution_count": 92,
   "metadata": {},
   "outputs": [],
   "source": [
    "import sklearn.linear_model as linear_model\n",
    "n_splits = 5\n",
    "kf = KFold(n_splits=n_splits)"
   ]
  },
  {
   "cell_type": "code",
   "execution_count": 93,
   "metadata": {},
   "outputs": [
    {
     "name": "stdout",
     "output_type": "stream",
     "text": [
      "MSE:  0.004123596074823909\n",
      "MAE:  0.046693163445344785\n"
     ]
    }
   ],
   "source": [
    "MSE = []\n",
    "MAE = []\n",
    "\n",
    "mse=0\n",
    "mae=0\n",
    "\n",
    "for i in alphas:\n",
    "    for train_index, test_index in kf.split(X_train):\n",
    "        x_train, x_test = X_train[train_index], X_train[test_index]\n",
    "        y_train, y_test = Y_train[train_index], Y_train[test_index]\n",
    "\n",
    "        ridge = linear_model.Ridge(alpha = i)\n",
    "        ridge = ridge.fit(x_train, y_train)\n",
    "        \n",
    "        \n",
    "        mse += mean_squared_error(y_test, ridge.predict(x_test))\n",
    "        mae += mean_absolute_error(y_test, ridge.predict(x_test))\n",
    "    mse = mse/5\n",
    "    mae = mae/5\n",
    "    \n",
    "    MSE.append(mse)\n",
    "    MAE.append(mae)\n",
    "    \n",
    "    mse=0\n",
    "    mae=0\n",
    "    \n",
    "    \n",
    "print('MSE: ',min(MSE))\n",
    "print('MAE: ',min(MAE))"
   ]
  },
  {
   "cell_type": "code",
   "execution_count": 94,
   "metadata": {},
   "outputs": [
    {
     "data": {
      "text/plain": [
       "52"
      ]
     },
     "execution_count": 94,
     "metadata": {},
     "output_type": "execute_result"
    }
   ],
   "source": [
    "min_value = min(MSE)\n",
    "min_index = MSE.index(min_value)\n",
    "min_index"
   ]
  },
  {
   "cell_type": "code",
   "execution_count": 95,
   "metadata": {},
   "outputs": [
    {
     "data": {
      "text/plain": [
       "0.004123596074823909"
      ]
     },
     "execution_count": 95,
     "metadata": {},
     "output_type": "execute_result"
    }
   ],
   "source": [
    "MSE[min_index]"
   ]
  },
  {
   "cell_type": "code",
   "execution_count": 96,
   "metadata": {},
   "outputs": [
    {
     "data": {
      "text/plain": [
       "0.49770235643321137"
      ]
     },
     "execution_count": 96,
     "metadata": {},
     "output_type": "execute_result"
    }
   ],
   "source": [
    "alpha[min_index]"
   ]
  },
  {
   "cell_type": "code",
   "execution_count": 97,
   "metadata": {},
   "outputs": [
    {
     "data": {
      "text/plain": [
       "49"
      ]
     },
     "execution_count": 97,
     "metadata": {},
     "output_type": "execute_result"
    }
   ],
   "source": [
    "min_value = min(MAE)\n",
    "min_index = MAE.index(min_value)\n",
    "min_index"
   ]
  },
  {
   "cell_type": "code",
   "execution_count": 98,
   "metadata": {},
   "outputs": [
    {
     "data": {
      "text/plain": [
       "0.046693163445344785"
      ]
     },
     "execution_count": 98,
     "metadata": {},
     "output_type": "execute_result"
    }
   ],
   "source": [
    "MAE[min_index]"
   ]
  },
  {
   "cell_type": "code",
   "execution_count": 99,
   "metadata": {},
   "outputs": [
    {
     "data": {
      "text/plain": [
       "1.1497569953977356"
      ]
     },
     "execution_count": 99,
     "metadata": {},
     "output_type": "execute_result"
    }
   ],
   "source": [
    "alpha[min_index]"
   ]
  },
  {
   "cell_type": "code",
   "execution_count": 100,
   "metadata": {},
   "outputs": [
    {
     "name": "stdout",
     "output_type": "stream",
     "text": [
      "MSE:  0.004114762849512672\n",
      "MAE:  0.04664834386329588\n"
     ]
    }
   ],
   "source": [
    "MSE = []\n",
    "MAE = []\n",
    "\n",
    "mse=0\n",
    "mae=0\n",
    "\n",
    "for i in alphas:\n",
    "    for train_index, test_index in kf.split(X_train):\n",
    "        x_train, x_test = X_train[train_index], X_train[test_index]\n",
    "        y_train, y_test = Y_train[train_index], Y_train[test_index]\n",
    "\n",
    "        lasso = linear_model.Lasso(alpha = i)\n",
    "        lasso = lasso.fit(x_train, y_train)\n",
    "        \n",
    "       \n",
    "        mse += mean_squared_error(y_test, lasso.predict(x_test))\n",
    "        mae += mean_absolute_error(y_test, lasso.predict(x_test))\n",
    "    \n",
    "    alpha.append(i)\n",
    "    mse = mse/5\n",
    "    mae = mae/5\n",
    "    \n",
    "    MSE.append(mse)\n",
    "    MAE.append(mae)\n",
    "    \n",
    "    mse=0\n",
    "    mae=0\n",
    "    \n",
    "    \n",
    "print('MSE: ',min(MSE))\n",
    "print('MAE: ',min(MAE))"
   ]
  },
  {
   "cell_type": "code",
   "execution_count": 101,
   "metadata": {},
   "outputs": [
    {
     "data": {
      "text/plain": [
       "76"
      ]
     },
     "execution_count": 101,
     "metadata": {},
     "output_type": "execute_result"
    }
   ],
   "source": [
    "min_value = min(MSE)\n",
    "min_index = MSE.index(min_value)\n",
    "min_index"
   ]
  },
  {
   "cell_type": "code",
   "execution_count": 102,
   "metadata": {},
   "outputs": [
    {
     "data": {
      "text/plain": [
       "0.004114762849512672"
      ]
     },
     "execution_count": 102,
     "metadata": {},
     "output_type": "execute_result"
    }
   ],
   "source": [
    "MSE[min_index]"
   ]
  },
  {
   "cell_type": "code",
   "execution_count": 103,
   "metadata": {},
   "outputs": [
    {
     "data": {
      "text/plain": [
       "0.0006135907273413163"
      ]
     },
     "execution_count": 103,
     "metadata": {},
     "output_type": "execute_result"
    }
   ],
   "source": [
    "alpha[min_index]"
   ]
  },
  {
   "cell_type": "code",
   "execution_count": 104,
   "metadata": {},
   "outputs": [
    {
     "data": {
      "text/plain": [
       "75"
      ]
     },
     "execution_count": 104,
     "metadata": {},
     "output_type": "execute_result"
    }
   ],
   "source": [
    "min_value = min(MAE)\n",
    "min_index = MAE.index(min_value)\n",
    "min_index"
   ]
  },
  {
   "cell_type": "code",
   "execution_count": 105,
   "metadata": {},
   "outputs": [
    {
     "data": {
      "text/plain": [
       "0.04664834386329588"
      ]
     },
     "execution_count": 105,
     "metadata": {},
     "output_type": "execute_result"
    }
   ],
   "source": [
    "MAE[min_index]"
   ]
  },
  {
   "cell_type": "code",
   "execution_count": 106,
   "metadata": {},
   "outputs": [
    {
     "data": {
      "text/plain": [
       "0.0008111308307896856"
      ]
     },
     "execution_count": 106,
     "metadata": {},
     "output_type": "execute_result"
    }
   ],
   "source": [
    "alpha[min_index]"
   ]
  },
  {
   "cell_type": "code",
   "execution_count": 107,
   "metadata": {},
   "outputs": [
    {
     "name": "stdout",
     "output_type": "stream",
     "text": [
      "MSE: 0.004115711453677737\n",
      "MAE: 0.0008231422907355474\n"
     ]
    }
   ],
   "source": [
    "MSE = []\n",
    "MAE = []\n",
    "\n",
    "mse = 0\n",
    "mae = 0\n",
    "\n",
    "\n",
    "for i in alphas:\n",
    "\n",
    "    for train_index, test_index in kf.split(X_train):\n",
    "        \n",
    "        x_train, x_test = X_train[train_index], X_train[test_index]\n",
    "        y_train, y_test = Y_train[train_index], Y_train[test_index]\n",
    "\n",
    "        en = linear_model.ElasticNet(alpha = i)\n",
    "        en = en.fit(x_train, y_train)\n",
    "        \n",
    "        mse += mean_squared_error(y_test, en.predict(x_test))\n",
    "        mae += mean_absolute_error(y_test, en.predict(x_test))\n",
    "        \n",
    "    mse = mse/5\n",
    "    mae = mse/5\n",
    "\n",
    "    MSE.append(mse)\n",
    "    MAE.append(mae)\n",
    "    \n",
    "    mse = 0\n",
    "    mae = 0\n",
    "\n",
    "print('MSE:', min(MSE))\n",
    "print('MAE:', min(MAE))"
   ]
  },
  {
   "cell_type": "code",
   "execution_count": 108,
   "metadata": {},
   "outputs": [
    {
     "data": {
      "text/plain": [
       "74"
      ]
     },
     "execution_count": 108,
     "metadata": {},
     "output_type": "execute_result"
    }
   ],
   "source": [
    "min_value = min(MSE)\n",
    "min_index = MSE.index(min_value)\n",
    "min_index"
   ]
  },
  {
   "cell_type": "code",
   "execution_count": 109,
   "metadata": {},
   "outputs": [
    {
     "data": {
      "text/plain": [
       "0.004115711453677737"
      ]
     },
     "execution_count": 109,
     "metadata": {},
     "output_type": "execute_result"
    }
   ],
   "source": [
    "MSE[min_index]"
   ]
  },
  {
   "cell_type": "code",
   "execution_count": 110,
   "metadata": {},
   "outputs": [
    {
     "data": {
      "text/plain": [
       "0.001072267222010321"
      ]
     },
     "execution_count": 110,
     "metadata": {},
     "output_type": "execute_result"
    }
   ],
   "source": [
    "alpha[min_index]"
   ]
  },
  {
   "cell_type": "code",
   "execution_count": 111,
   "metadata": {},
   "outputs": [
    {
     "data": {
      "text/plain": [
       "74"
      ]
     },
     "execution_count": 111,
     "metadata": {},
     "output_type": "execute_result"
    }
   ],
   "source": [
    "min_value = min(MAE)\n",
    "min_index = MAE.index(min_value)\n",
    "min_index"
   ]
  },
  {
   "cell_type": "code",
   "execution_count": 112,
   "metadata": {},
   "outputs": [
    {
     "data": {
      "text/plain": [
       "0.0008231422907355474"
      ]
     },
     "execution_count": 112,
     "metadata": {},
     "output_type": "execute_result"
    }
   ],
   "source": [
    "MAE[min_index]"
   ]
  },
  {
   "cell_type": "code",
   "execution_count": 113,
   "metadata": {},
   "outputs": [
    {
     "data": {
      "text/plain": [
       "0.001072267222010321"
      ]
     },
     "execution_count": 113,
     "metadata": {},
     "output_type": "execute_result"
    }
   ],
   "source": [
    "alpha[min_index]"
   ]
  },
  {
   "cell_type": "markdown",
   "metadata": {},
   "source": [
    "- Usually the scaling of the data is favored when predictors have different ranges of values (i.e., using year data and dollars). Scaling normally results in a better MSE, which is not the case in this example, and standardizes the data. The reguralization allows the model to detect true outliers and not just data based on two different types of quantitative data."
   ]
  }
 ],
 "metadata": {
  "colab": {
   "collapsed_sections": [],
   "name": "MIS 382N - HW1.ipynb",
   "provenance": []
  },
  "kernelspec": {
   "display_name": "Python 3",
   "language": "python",
   "name": "python3"
  },
  "language_info": {
   "codemirror_mode": {
    "name": "ipython",
    "version": 3
   },
   "file_extension": ".py",
   "mimetype": "text/x-python",
   "name": "python",
   "nbconvert_exporter": "python",
   "pygments_lexer": "ipython3",
   "version": "3.8.8"
  }
 },
 "nbformat": 4,
 "nbformat_minor": 1
}
